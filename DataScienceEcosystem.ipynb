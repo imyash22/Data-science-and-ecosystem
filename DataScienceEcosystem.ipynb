{
 "cells": [
  {
   "cell_type": "markdown",
   "id": "35a8f69b",
   "metadata": {},
   "source": [
    "# Data Science Tools And Ecosystem "
   ]
  },
  {
   "cell_type": "markdown",
   "id": "32be91b8",
   "metadata": {},
   "source": [
    "In this notebook , Data Science Tools and Ecosystem are summarized ."
   ]
  },
  {
   "cell_type": "markdown",
   "id": "aa631dc1",
   "metadata": {},
   "source": [
    "**Objectives :**\n",
    "- popular languages that data scientists use \n",
    "- commonly used libraries \n",
    "- Data science tools\n",
    "- Evaluating arithmetic Expressions \n",
    "- converting minutes into hours "
   ]
  },
  {
   "cell_type": "markdown",
   "id": "388d7e9c",
   "metadata": {},
   "source": [
    "Some of the popular languages that data scientists use are :\n",
    "\n",
    "1. Python\n",
    "2. R\n",
    "3. SQL\n",
    "4. Scala\n",
    "5. Java\n",
    "6. Matlab"
   ]
  },
  {
   "cell_type": "markdown",
   "id": "335e7481",
   "metadata": {},
   "source": [
    "Some of the commonly used libraries used by data scientists include :\n",
    "1. NumPy\n",
    "2. Pandas\n",
    "3. Matplotlib\n",
    "4. PyTorch\n",
    "5. Tensorflow\n",
    "6. Seaborn"
   ]
  },
  {
   "cell_type": "markdown",
   "id": "159eafa4",
   "metadata": {},
   "source": [
    "| Data Science Tools         |\n",
    "|----------------------------|\n",
    "|Jupyter Notebook            |\n",
    "|Rstudio                     |\n",
    "|VS code(Visual Studio code) |"
   ]
  },
  {
   "cell_type": "markdown",
   "id": "640c14ef",
   "metadata": {},
   "source": [
    "### Below are a few examples of evaluating arithmatic expressions in python "
   ]
  },
  {
   "cell_type": "code",
   "execution_count": 2,
   "id": "040f25ff",
   "metadata": {},
   "outputs": [
    {
     "data": {
      "text/plain": [
       "17"
      ]
     },
     "execution_count": 2,
     "metadata": {},
     "output_type": "execute_result"
    }
   ],
   "source": [
    "(3*4)+5\n",
    "# This is a simple arithmetic expression to multiply then add integers"
   ]
  },
  {
   "cell_type": "code",
   "execution_count": 8,
   "id": "422a787a",
   "metadata": {},
   "outputs": [
    {
     "data": {
      "text/plain": [
       "3.3333333333333335"
      ]
     },
     "execution_count": 8,
     "metadata": {},
     "output_type": "execute_result"
    }
   ],
   "source": [
    "# Creaing Code cell to convert 200 minutes into Hours \n",
    "# To convert minutes into hours we need to divide minutes by 60\n",
    "200/60"
   ]
  },
  {
   "cell_type": "markdown",
   "id": "1b546e4c",
   "metadata": {},
   "source": [
    "## Author \n",
    "   Yash Sharma"
   ]
  },
  {
   "cell_type": "code",
   "execution_count": null,
   "id": "3671e15a",
   "metadata": {},
   "outputs": [],
   "source": []
  }
 ],
 "metadata": {
  "kernelspec": {
   "display_name": "Python 3 (ipykernel)",
   "language": "python",
   "name": "python3"
  },
  "language_info": {
   "codemirror_mode": {
    "name": "ipython",
    "version": 3
   },
   "file_extension": ".py",
   "mimetype": "text/x-python",
   "name": "python",
   "nbconvert_exporter": "python",
   "pygments_lexer": "ipython3",
   "version": "3.11.5"
  }
 },
 "nbformat": 4,
 "nbformat_minor": 5
}
